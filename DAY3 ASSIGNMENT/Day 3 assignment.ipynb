{
 "cells": [
  {
   "cell_type": "code",
   "execution_count": 8,
   "metadata": {},
   "outputs": [
    {
     "name": "stdout",
     "output_type": "stream",
     "text": [
      "subtraction of two  complex numbers: (-3-2j)\n"
     ]
    }
   ],
   "source": [
    "#COMPLEX NUMBERS SUBTRACTION\n",
    "a=2+4j\n",
    "b=5+6j\n",
    "c=a-b\n",
    "print('subtraction of two  complex numbers:',c)"
   ]
  },
  {
   "cell_type": "code",
   "execution_count": 10,
   "metadata": {},
   "outputs": [
    {
     "name": "stdout",
     "output_type": "stream",
     "text": [
      "enter your number100\n",
      "enter the root10\n",
      "1.5848931924611136\n"
     ]
    }
   ],
   "source": [
    "#fourth root of a number\n",
    "a=int(input('enter your number'))\n",
    "n=int(input('enter the root'))\n",
    "answer=a**(1/n)\n",
    "print(answer)"
   ]
  },
  {
   "cell_type": "code",
   "execution_count": 13,
   "metadata": {},
   "outputs": [
    {
     "name": "stdout",
     "output_type": "stream",
     "text": [
      "x  value after swapping: 1000\n",
      "y value after swapping: 900\n"
     ]
    }
   ],
   "source": [
    "#program for swapping of numbers using temporary varaible....\n",
    "x=900\n",
    "y=1000\n",
    "temp=x\n",
    "x=y\n",
    "y=temp\n",
    "print('x  value after swapping:',x)\n",
    "print('y value after swapping:',y)"
   ]
  },
  {
   "cell_type": "code",
   "execution_count": 14,
   "metadata": {},
   "outputs": [
    {
     "name": "stdout",
     "output_type": "stream",
     "text": [
      "4\n",
      "5\n"
     ]
    }
   ],
   "source": [
    "#program for swapping of numbers without using temperory varaible\n",
    "x=5\n",
    "y=4\n",
    "x,y=y,x\n",
    "print(x)\n",
    "print(y)\n",
    "\n",
    "\n"
   ]
  },
  {
   "cell_type": "code",
   "execution_count": 16,
   "metadata": {},
   "outputs": [
    {
     "name": "stdout",
     "output_type": "stream",
     "text": [
      "enter f =:100\n",
      "the teemperature in celcius is: 37.77777777777778\n"
     ]
    }
   ],
   "source": [
    "#farenheit to celcius conversion....\n",
    "f=int(input('enter f =:'))\n",
    "c=5/9*(f-32)\n",
    "print('the teemperature in celcius is:',c)\n",
    "\n",
    "\n",
    "\n"
   ]
  },
  {
   "cell_type": "code",
   "execution_count": 18,
   "metadata": {},
   "outputs": [
    {
     "name": "stdout",
     "output_type": "stream",
     "text": [
      "enter f =:100\n",
      "the temperature in kelvin is: 310.77777777777777\n"
     ]
    }
   ],
   "source": [
    "#farenheit to kelvin conversion....\n",
    "f=int(input('enter f =:'))\n",
    "k=5/9*(f-32)+273\n",
    "print('the temperature in kelvin is:',k)\n"
   ]
  },
  {
   "cell_type": "code",
   "execution_count": 21,
   "metadata": {},
   "outputs": [
    {
     "name": "stdout",
     "output_type": "stream",
     "text": [
      "a is: <class 'int'>\n",
      "b is : <class 'str'>\n",
      "c is : <class 'float'>\n",
      "d is : <class 'complex'>\n"
     ]
    }
   ],
   "source": [
    "a=20\n",
    "b='20'\n",
    "c=20.11\n",
    "d=20+8j\n",
    "print('a is:',type(a))\n",
    "print('b is :',type(b))\n",
    "print('c is :',type(c))\n",
    "print('d is :',type(d))\n",
    "\n",
    "\n",
    "\n",
    "\n",
    "\n"
   ]
  },
  {
   "cell_type": "markdown",
   "metadata": {},
   "source": [
    "process to upload assignment....\n",
    "1)open git hub and create your own profile i.e sign up.\n",
    "2)do the assignment in jupyter notebook in desired folder.\n",
    "3)create new repository and name it LetsUpgrade AI-ML\n",
    "4)Upload the assignment in github repository..."
   ]
  },
  {
   "cell_type": "code",
   "execution_count": null,
   "metadata": {},
   "outputs": [],
   "source": []
  },
  {
   "cell_type": "code",
   "execution_count": null,
   "metadata": {},
   "outputs": [],
   "source": []
  },
  {
   "cell_type": "code",
   "execution_count": null,
   "metadata": {},
   "outputs": [],
   "source": []
  },
  {
   "cell_type": "code",
   "execution_count": null,
   "metadata": {},
   "outputs": [],
   "source": []
  },
  {
   "cell_type": "code",
   "execution_count": null,
   "metadata": {},
   "outputs": [],
   "source": []
  },
  {
   "cell_type": "code",
   "execution_count": null,
   "metadata": {},
   "outputs": [],
   "source": []
  },
  {
   "cell_type": "code",
   "execution_count": null,
   "metadata": {},
   "outputs": [],
   "source": []
  },
  {
   "cell_type": "code",
   "execution_count": null,
   "metadata": {},
   "outputs": [],
   "source": []
  }
 ],
 "metadata": {
  "kernelspec": {
   "display_name": "Python 3",
   "language": "python",
   "name": "python3"
  },
  "language_info": {
   "codemirror_mode": {
    "name": "ipython",
    "version": 3
   },
   "file_extension": ".py",
   "mimetype": "text/x-python",
   "name": "python",
   "nbconvert_exporter": "python",
   "pygments_lexer": "ipython3",
   "version": "3.7.6"
  }
 },
 "nbformat": 4,
 "nbformat_minor": 4
}
