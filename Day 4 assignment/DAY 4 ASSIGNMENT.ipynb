{
 "cells": [
  {
   "cell_type": "code",
   "execution_count": 16,
   "metadata": {},
   "outputs": [
    {
     "name": "stdout",
     "output_type": "stream",
     "text": [
      "addition is: (7+9j)\n",
      "subtraction is: (-3-3j)\n",
      "multiplication is: (-8+27j)\n",
      "floor division of complex numbers is not possible\n",
      "modulus operator on complex numbers is not possible\n"
     ]
    }
   ],
   "source": [
    "#QUESTION 1\n",
    "#Various operations on complex numbers.....\n",
    "a=2+3j\n",
    "b=5+6j\n",
    "c=a+b\n",
    "d=a-b\n",
    "e=a*b\n",
    "print('addition is:',c)\n",
    "print('subtraction is:',d)\n",
    "print('multiplication is:',e)\n",
    "print('floor division of complex numbers is not possible')\n",
    "print('modulus operator on complex numbers is not possible')"
   ]
  },
  {
   "cell_type": "markdown",
   "metadata": {},
   "source": [
    "range() is used in for loop\n",
    "for a loop to be iterated to fixed value we give the end value in range function\n",
    "loop gets iterated till (i-1)th iteration....\n",
    "it takes 3 arguments in the function\n",
    "start_value, end_value , step\n",
    "\n"
   ]
  },
  {
   "cell_type": "code",
   "execution_count": 18,
   "metadata": {
    "scrolled": true
   },
   "outputs": [
    {
     "name": "stdout",
     "output_type": "stream",
     "text": [
      "lets upgrade\n",
      "lets upgrade\n",
      "lets upgrade\n",
      "lets upgrade\n",
      "lets upgrade\n"
     ]
    }
   ],
   "source": [
    "\n",
    "for i in range(5):\n",
    "    print('lets upgrade')\n",
    "\n",
    "    "
   ]
  },
  {
   "cell_type": "code",
   "execution_count": 19,
   "metadata": {},
   "outputs": [
    {
     "name": "stdout",
     "output_type": "stream",
     "text": [
      "0\n",
      "1\n",
      "2\n",
      "3\n",
      "4\n",
      "5\n",
      "6\n",
      "7\n",
      "8\n",
      "9\n"
     ]
    }
   ],
   "source": [
    "#range function example2........w\n",
    "for i in range(0,10):\n",
    "    print(i)\n",
    "    \n",
    "    "
   ]
  },
  {
   "cell_type": "code",
   "execution_count": 20,
   "metadata": {},
   "outputs": [
    {
     "name": "stdout",
     "output_type": "stream",
     "text": [
      "0\n",
      "2\n",
      "4\n",
      "6\n",
      "8\n"
     ]
    }
   ],
   "source": [
    "#range function in steps of 2\n",
    "#range function example3........w\n",
    "for i in range(0,10,2):\n",
    "    print(i)\n",
    "    \n",
    "    \n"
   ]
  },
  {
   "cell_type": "code",
   "execution_count": 3,
   "metadata": {},
   "outputs": [
    {
     "name": "stdout",
     "output_type": "stream",
     "text": [
      "enter the first number50\n",
      "enter the second number25\n",
      "the subtraction of two numbers is: 25\n",
      "the division is : 2.0\n"
     ]
    }
   ],
   "source": [
    "#QUESTION 3\n",
    "\n",
    "a=int(input(\"enter the first number\"))\n",
    "b=int(input(\"enter the second number\"))\n",
    "subtraction=a-b\n",
    "print(\"the subtraction of two numbers is:\",subtraction)\n",
    "if subtraction>25:\n",
    "    d=a*b\n",
    "    print(\"the multiplication is:\",d)\n",
    "else:\n",
    "    e=a/b\n",
    "    print(\"the division is :\" ,e)\n",
    "\n"
   ]
  },
  {
   "cell_type": "code",
   "execution_count": 33,
   "metadata": {},
   "outputs": [
    {
     "name": "stdout",
     "output_type": "stream",
     "text": [
      "result of square of  number minus 2 is:  2\n",
      "result of square of  number minus 2 is:  14\n",
      "result of square of  number minus 2 is:  34\n",
      "result of square of  number minus 2 is:  62\n",
      "result of square of  number minus 2 is:  98\n"
     ]
    }
   ],
   "source": [
    "#QUESTION 4\n",
    "l=[1,2,3,4,5,6,7,8,9,10]\n",
    "for n in l:\n",
    "    if n%2==0:\n",
    "        print(\"result of square of  number minus 2 is: \",n**2-2)"
   ]
  },
  {
   "cell_type": "code",
   "execution_count": 34,
   "metadata": {},
   "outputs": [
    {
     "name": "stdout",
     "output_type": "stream",
     "text": [
      "number is greater than 7 and divisible by 2: 8\n",
      "number is greater than 7 and divisible by 2: 10\n"
     ]
    }
   ],
   "source": [
    "#QUESTION 5\n",
    "l=[1,2,3,4,5,6,7,8,9,10]\n",
    "for n in l:\n",
    "    if n>7 and n%2==0:\n",
    "        print(\"number is greater than 7 and divisible by 2:\",n)"
   ]
  },
  {
   "cell_type": "code",
   "execution_count": 35,
   "metadata": {},
   "outputs": [
    {
     "data": {
      "text/plain": [
       "'D:\\\\lets upgrade\\\\Day 4 assignment'"
      ]
     },
     "execution_count": 35,
     "metadata": {},
     "output_type": "execute_result"
    }
   ],
   "source": [
    "import os\n",
    "os.getcwd()"
   ]
  },
  {
   "cell_type": "code",
   "execution_count": null,
   "metadata": {},
   "outputs": [],
   "source": []
  }
 ],
 "metadata": {
  "kernelspec": {
   "display_name": "Python 3",
   "language": "python",
   "name": "python3"
  },
  "language_info": {
   "codemirror_mode": {
    "name": "ipython",
    "version": 3
   },
   "file_extension": ".py",
   "mimetype": "text/x-python",
   "name": "python",
   "nbconvert_exporter": "python",
   "pygments_lexer": "ipython3",
   "version": "3.7.6"
  }
 },
 "nbformat": 4,
 "nbformat_minor": 4
}
