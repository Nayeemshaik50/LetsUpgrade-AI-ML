{
 "cells": [
  {
   "cell_type": "code",
   "execution_count": 23,
   "metadata": {},
   "outputs": [
    {
     "name": "stdout",
     "output_type": "stream",
     "text": [
      "enter the number0\n",
      "enter the end number20\n",
      "3\n",
      "5\n",
      "7\n",
      "11\n",
      "13\n",
      "17\n",
      "19\n"
     ]
    }
   ],
   "source": [
    "start=int(input('enter the number'))\n",
    "end=int(input('enter the end number'))\n",
    "for n in range(start,end):\n",
    "    if n>1:\n",
    "        for j in range(2,n//2+2):\n",
    "            if (n%j)==0:\n",
    "                break\n",
    "            else:\n",
    "                if j==n//2+1:\n",
    "                    print(n)\n",
    "                "
   ]
  },
  {
   "cell_type": "code",
   "execution_count": 63,
   "metadata": {},
   "outputs": [
    {
     "name": "stdout",
     "output_type": "stream",
     "text": [
      "y\n",
      "NAYEEM\n",
      "nayeem\n",
      "meeyan\n",
      "Nayeem\n",
      "b'Nayeem'\n",
      "True\n",
      "False\n",
      "3\n",
      "True\n",
      "Naveem\n",
      "False\n",
      "nAYEEM\n",
      "Naveen\n",
      "yNayeemm\n",
      "Nay\n"
     ]
    }
   ],
   "source": [
    "l='Nayeem'\n",
    "s='ym'\n",
    "t='vn'\n",
    "mapped=str.maketrans(s,t)\n",
    "print(str[2])\n",
    "print(l.upper())\n",
    "print(l.lower())\n",
    "print(str[::-1])\n",
    "print(l.capitalize())\n",
    "print(l.encode())\n",
    "print(l.endswith('m'))\n",
    "print(l.startswith('n'))\n",
    "print(l.find('e'))\n",
    "print(l.istitle())\n",
    "print(l.replace('y','v'))\n",
    "print(l.isupper())\n",
    "print(l.swapcase())\n",
    "print(l.translate(mapped))\n",
    "print(l.join(s))\n",
    "print(l.rstrip('eem'))\n"
   ]
  },
  {
   "cell_type": "code",
   "execution_count": null,
   "metadata": {},
   "outputs": [],
   "source": []
  },
  {
   "cell_type": "code",
   "execution_count": 72,
   "metadata": {},
   "outputs": [
    {
     "name": "stdout",
     "output_type": "stream",
     "text": [
      "give any string\n",
      "mom\n",
      "mom\n",
      "is palindrdome\n"
     ]
    }
   ],
   "source": [
    "string=input('give any string\\n')\n",
    "rev_string=string[::-1]\n",
    "print(rev_string)\n",
    "if string==rev_string:\n",
    "    print('is palindrdome')\n",
    "else:\n",
    "    print('not palindrome')\n"
   ]
  },
  {
   "cell_type": "code",
   "execution_count": 76,
   "metadata": {},
   "outputs": [
    {
     "name": "stdout",
     "output_type": "stream",
     "text": [
      "give first stringlisten\n",
      "give the second stringsilent\n",
      "they are anagrams\n"
     ]
    }
   ],
   "source": [
    "g=input('give first string')\n",
    "h=input('give the second string')\n",
    "if(sorted(g)==sorted(h)):\n",
    "    print('they are anagrams')\n",
    "else:\n",
    "    print('they are not anagrams')"
   ]
  },
  {
   "cell_type": "code",
   "execution_count": 83,
   "metadata": {},
   "outputs": [
    {
     "name": "stdout",
     "output_type": "stream",
     "text": [
      "give any string\n",
      "listen\n",
      "netsil\n",
      "not palindrome and anagram\n"
     ]
    }
   ],
   "source": [
    "string=input('give any string\\n')\n",
    "rev_string=string[::-1]\n",
    "print(rev_string)\n",
    "if string==rev_string and sorted(string)==sorted(rev_string):\n",
    "    print('it is palindrome and anagram')\n",
    "else:\n",
    "    print('not palindrome and  not anagram')\n",
    "\n"
   ]
  },
  {
   "cell_type": "code",
   "execution_count": 102,
   "metadata": {},
   "outputs": [
    {
     "name": "stdout",
     "output_type": "stream",
     "text": [
      "dr darshan ingle\n",
      "DrDarshanIngle\n"
     ]
    }
   ],
   "source": [
    "x='Dr Darshan Ingle'\n",
    "print(x.lower())\n",
    "print(x.replace(\" \",\"\"))"
   ]
  },
  {
   "cell_type": "code",
   "execution_count": 109,
   "metadata": {},
   "outputs": [
    {
     "name": "stdout",
     "output_type": "stream",
     "text": [
      "DrDarshanIngle\n"
     ]
    }
   ],
   "source": [
    "def name(string):\n",
    "    return string.replace(\" \",\"\") \n",
    "    \n",
    "string='Dr Darshan Ingle'\n",
    "print(name(string))\n",
    "    "
   ]
  },
  {
   "cell_type": "code",
   "execution_count": 116,
   "metadata": {},
   "outputs": [
    {
     "data": {
      "text/plain": [
       "'dr.darshaningle'"
      ]
     },
     "execution_count": 116,
     "metadata": {},
     "output_type": "execute_result"
    }
   ],
   "source": [
    "s='Dr.Darshan Ingle'\n",
    "\n",
    "''.join(s.split()).lower()"
   ]
  },
  {
   "cell_type": "code",
   "execution_count": 117,
   "metadata": {},
   "outputs": [
    {
     "data": {
      "text/plain": [
       "'D:\\\\lets upgrade\\\\Day 5 assignment'"
      ]
     },
     "execution_count": 117,
     "metadata": {},
     "output_type": "execute_result"
    }
   ],
   "source": [
    "import os\n",
    "os.getcwd()"
   ]
  },
  {
   "cell_type": "code",
   "execution_count": null,
   "metadata": {},
   "outputs": [],
   "source": []
  },
  {
   "cell_type": "code",
   "execution_count": null,
   "metadata": {},
   "outputs": [],
   "source": []
  }
 ],
 "metadata": {
  "kernelspec": {
   "display_name": "Python 3",
   "language": "python",
   "name": "python3"
  },
  "language_info": {
   "codemirror_mode": {
    "name": "ipython",
    "version": 3
   },
   "file_extension": ".py",
   "mimetype": "text/x-python",
   "name": "python",
   "nbconvert_exporter": "python",
   "pygments_lexer": "ipython3",
   "version": "3.7.6"
  }
 },
 "nbformat": 4,
 "nbformat_minor": 4
}
