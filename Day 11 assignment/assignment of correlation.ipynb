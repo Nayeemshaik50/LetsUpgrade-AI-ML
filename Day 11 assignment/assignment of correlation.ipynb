{
 "cells": [
  {
   "cell_type": "code",
   "execution_count": 6,
   "metadata": {},
   "outputs": [
    {
     "name": "stdout",
     "output_type": "stream",
     "text": [
      "attriton vs monthlyincome: -0.030160293808460664 0.045890862744719166\n",
      "------------------------------------------\n",
      "attrition vs distancefromhome: -0.009448638515156248 0.5317715668019558\n",
      "--------------------------------------------\n",
      "attrition vs education: -0.017106307050278723 0.25757539308157945\n",
      "--------------------------------------------\n",
      "attrition vs joblevel: -0.012381569720790877 0.4125489150380087\n",
      "attrition vs companieswrked: 0.04283056724472088 0.004572057121620842\n",
      "attriton vs salary hike: 0.03315303713546665 0.028192446935106235\n",
      "attriton vs stockoptions: -0.008164026684984328 0.588999635831226\n",
      "attriton vs totalworkin years: -0.1696699168472392 1.1645434967091854e-29\n",
      "attrion vs training time last year: -0.04758573693081737 0.0016276603635477602\n",
      "attriton vs years at company: -0.1330026184252154 9.476118084836507e-19\n"
     ]
    }
   ],
   "source": [
    "#covarience for attrition and various varaibles.......\n",
    "import pandas as pd\n",
    "import numpy as np\n",
    "data1=pd.read_csv( 'general_data.csv')\n",
    "data1=data1.dropna()\n",
    "\n",
    "#converting attrition data to values\n",
    "from sklearn.preprocessing import LabelEncoder\n",
    "data1['Attrition']=LabelEncoder().fit_transform(data1['Attrition'])\n",
    "\n",
    "\n",
    "from scipy.stats import pearsonr\n",
    "stats,p=pearsonr(data1.Attrition, data1.MonthlyIncome)\n",
    "print('attriton vs monthlyincome:',stats,p)\n",
    "print('------------------------------------------')\n",
    "stats,p=pearsonr(data1.Attrition, data1.DistanceFromHome)\n",
    "print('attrition vs distancefromhome:',stats,p)\n",
    "print('--------------------------------------------')\n",
    "stats,p=pearsonr(data1.Attrition, data1.Education)\n",
    "print('attrition vs education:',stats,p)\n",
    "print('--------------------------------------------')\n",
    "stats,p=pearsonr(data1.Attrition, data1.JobLevel)\n",
    "print('attrition vs joblevel:',stats,p)\n",
    "stats,p=pearsonr(data1.Attrition, data1.NumCompaniesWorked)\n",
    "print('attrition vs companieswrked:',stats,p)\n",
    "stats,p=pearsonr(data1.Attrition, data1.PercentSalaryHike)\n",
    "print('attriton vs salary hike:',stats,p)\n",
    "stats,p=pearsonr(data1.Attrition, data1.StockOptionLevel)\n",
    "print('attriton vs stockoptions:',stats,p)\n",
    "stats,p=pearsonr(data1.Attrition, data1.TotalWorkingYears)\n",
    "print('attriton vs totalworkin years:',stats,p)\n",
    "stats,p=pearsonr(data1.Attrition, data1.TrainingTimesLastYear)\n",
    "print('attrion vs training time last year:',stats,p)\n",
    "stats,p=pearsonr(data1.Attrition, data1.YearsAtCompany)\n",
    "print('attriton vs years at company:',stats,p)"
   ]
  },
  {
   "cell_type": "code",
   "execution_count": null,
   "metadata": {},
   "outputs": [],
   "source": []
  }
 ],
 "metadata": {
  "kernelspec": {
   "display_name": "Python 3",
   "language": "python",
   "name": "python3"
  },
  "language_info": {
   "codemirror_mode": {
    "name": "ipython",
    "version": 3
   },
   "file_extension": ".py",
   "mimetype": "text/x-python",
   "name": "python",
   "nbconvert_exporter": "python",
   "pygments_lexer": "ipython3",
   "version": "3.7.6"
  }
 },
 "nbformat": 4,
 "nbformat_minor": 4
}
